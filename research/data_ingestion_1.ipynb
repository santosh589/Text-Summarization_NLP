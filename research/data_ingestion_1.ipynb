{
 "cells": [
  {
   "cell_type": "code",
   "execution_count": 2,
   "id": "14c6f888",
   "metadata": {},
   "outputs": [],
   "source": [
    "import os"
   ]
  },
  {
   "cell_type": "code",
   "execution_count": 3,
   "id": "9ae2ff27",
   "metadata": {},
   "outputs": [
    {
     "data": {
      "text/plain": [
       "'c:\\\\I39106\\\\DSP\\\\Text-Summarization_NLP-main\\\\research'"
      ]
     },
     "execution_count": 3,
     "metadata": {},
     "output_type": "execute_result"
    }
   ],
   "source": [
    "pwd"
   ]
  },
  {
   "cell_type": "code",
   "execution_count": 4,
   "id": "9c893b53",
   "metadata": {},
   "outputs": [],
   "source": [
    "os.chdir(\"../\")"
   ]
  },
  {
   "cell_type": "code",
   "execution_count": 5,
   "id": "f25dc480",
   "metadata": {},
   "outputs": [
    {
     "data": {
      "text/plain": [
       "'c:\\\\I39106\\\\DSP\\\\Text-Summarization_NLP-main'"
      ]
     },
     "execution_count": 5,
     "metadata": {},
     "output_type": "execute_result"
    }
   ],
   "source": [
    "pwd"
   ]
  },
  {
   "cell_type": "code",
   "execution_count": 6,
   "id": "7f09dbfa",
   "metadata": {},
   "outputs": [],
   "source": [
    "from dataclasses import dataclass\n",
    "from pathlib import Path\n",
    "\n",
    "@dataclass(frozen=True)\n",
    "class DataIngestionConfig:\n",
    "    root_dir: Path\n",
    "    source_URL: str\n",
    "    local_data_file: Path\n",
    "    unzip_dir: Path\n",
    "    "
   ]
  },
  {
   "cell_type": "code",
   "execution_count": 8,
   "id": "f9d6916c",
   "metadata": {},
   "outputs": [],
   "source": [
    "from TextSummarizer.constants import *\n",
    "from TextSummarizer.utils.common import read_yaml, create_directories"
   ]
  },
  {
   "cell_type": "code",
   "execution_count": 9,
   "id": "889830b5",
   "metadata": {},
   "outputs": [],
   "source": [
    "class ConfigurationManager:\n",
    "    def __init__(self,  config_filepath = CONFIG_FILE_PATH, params_filepath = PARAMS_FILE_PATH):\n",
    "            \n",
    "            self.config = read_yaml(config_filepath)\n",
    "            self.params= read_yaml(params_filepath)\n",
    "\n",
    "            create_directories([self.config.artifacts_root])\n",
    "\n",
    "\n",
    "    def get_data_ingestion_config(self)-> DataIngestionConfig:\n",
    "        config = self.config.data_ingestion\n",
    "\n",
    "        create_directories([config.root_dir])\n",
    "\n",
    "        data_intgestion_config= DataIngestionConfig(\n",
    "                root_dir = config.root_dir,\n",
    "                source_URL= config.source_URL,\n",
    "                local_data_file=config.local_data_file,\n",
    "                unzip_dir = config.unzip_dir\n",
    "        )\n",
    "        return data_intgestion_config"
   ]
  },
  {
   "cell_type": "code",
   "execution_count": 10,
   "id": "46ce5053",
   "metadata": {},
   "outputs": [],
   "source": [
    "## Downloading data \n",
    "\n",
    "import os\n",
    "import urllib.request as request\n",
    "import zipfile\n",
    "from TextSummarizer.logging import logger\n",
    "from TextSummarizer.utils.common import get_size\n"
   ]
  },
  {
   "cell_type": "code",
   "execution_count": 12,
   "id": "7ebe08f3",
   "metadata": {},
   "outputs": [],
   "source": [
    "\n",
    "class DataIngestion:\n",
    "    def __init__(self, config: DataIngestionConfig):\n",
    "        self.config= config\n",
    "\n",
    "\n",
    "\n",
    "    def download_file(self):\n",
    "        if not os.path.exists(self.config.local_data_file):\n",
    "            filename, headers = request.urlretrieve(\n",
    "                url = self.config.source_URL,\n",
    "                filename= self.config.local_data_file\n",
    "            )\n",
    "            logger.info(f\"{filename} download! with following info: \\n{headers}\")\n",
    "        else:\n",
    "            logger.info(f\" File already exist of size: {get_size(Path(self.config.local_data_file))}\")\n",
    "\n",
    "\n",
    "    ## Unzip file\n",
    "\n",
    "    def extract_zip_file(self):\n",
    "        unzip_path =  self.config.unzip_dir\n",
    "        os.makedirs(unzip_path, exist_ok= True)\n",
    "        with zipfile.ZipFile(self.config.local_data_file, 'r') as zip_ref:\n",
    "            zip_ref.extractall(unzip_path)"
   ]
  },
  {
   "cell_type": "code",
   "execution_count": 15,
   "id": "5df2b5ef",
   "metadata": {},
   "outputs": [
    {
     "name": "stdout",
     "output_type": "stream",
     "text": [
      "[2025-06-06 15:23:57,015: INFO: common: yaml file: config\\config.yaml loaded successfully]\n",
      "[2025-06-06 15:23:57,022: INFO: common: yaml file: params.yaml loaded successfully]\n",
      "[2025-06-06 15:23:57,031: INFO: common: created directory at: artifacts]\n",
      "[2025-06-06 15:23:57,031: INFO: common: created directory at: artifacts/data_ingestion]\n",
      "[2025-06-06 15:23:59,785: INFO: 1324717884: artifacts/data_ingestion/data.zip download! with following info: \n",
      "Connection: close\n",
      "Content-Length: 8266778\n",
      "Cache-Control: max-age=300\n",
      "Content-Security-Policy: default-src 'none'; style-src 'unsafe-inline'; sandbox\n",
      "Content-Type: application/zip\n",
      "ETag: \"39ea5838f69b124e37ccceb0e1fe5bc61ead080c65244d7cb8acffdc9f5dc521\"\n",
      "Strict-Transport-Security: max-age=31536000\n",
      "X-Content-Type-Options: nosniff\n",
      "X-Frame-Options: deny\n",
      "X-XSS-Protection: 1; mode=block\n",
      "X-GitHub-Request-Id: 27D6:B467F:392B78:70D5B2:6842BAB6\n",
      "Accept-Ranges: bytes\n",
      "Date: Fri, 06 Jun 2025 09:53:59 GMT\n",
      "Via: 1.1 varnish\n",
      "X-Served-By: cache-maa10234-MAA\n",
      "X-Cache: MISS\n",
      "X-Cache-Hits: 0\n",
      "X-Timer: S1749203638.060489,VS0,VE944\n",
      "Vary: Authorization,Accept-Encoding\n",
      "Access-Control-Allow-Origin: *\n",
      "Cross-Origin-Resource-Policy: cross-origin\n",
      "X-Fastly-Request-ID: b8ff0c079a86172d84f444271d0a6140d534d828\n",
      "Expires: Fri, 06 Jun 2025 09:58:59 GMT\n",
      "Source-Age: 1\n",
      "\n",
      "]\n"
     ]
    }
   ],
   "source": [
    "try:\n",
    "    config = ConfigurationManager()\n",
    "    data_ingestion_config = config.get_data_ingestion_config()\n",
    "    data_ingestion = DataIngestion(config= data_ingestion_config)\n",
    "    data_ingestion.download_file()\n",
    "    data_ingestion.extract_zip_file()\n",
    "\n",
    "except Exception as e:\n",
    "    raise e"
   ]
  },
  {
   "cell_type": "code",
   "execution_count": null,
   "id": "d9b194f2",
   "metadata": {},
   "outputs": [],
   "source": []
  }
 ],
 "metadata": {
  "kernelspec": {
   "display_name": "Python 3",
   "language": "python",
   "name": "python3"
  },
  "language_info": {
   "codemirror_mode": {
    "name": "ipython",
    "version": 3
   },
   "file_extension": ".py",
   "mimetype": "text/x-python",
   "name": "python",
   "nbconvert_exporter": "python",
   "pygments_lexer": "ipython3",
   "version": "3.10.0"
  }
 },
 "nbformat": 4,
 "nbformat_minor": 5
}
